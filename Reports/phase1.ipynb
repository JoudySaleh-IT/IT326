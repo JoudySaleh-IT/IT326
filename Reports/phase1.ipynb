{
  "metadata": {
    "kernelspec": {
      "name": "python",
      "display_name": "Python (Pyodide)",
      "language": "python"
    },
    "language_info": {
      "codemirror_mode": {
        "name": "python",
        "version": 3
      },
      "file_extension": ".py",
      "mimetype": "text/x-python",
      "name": "python",
      "nbconvert_exporter": "python",
      "pygments_lexer": "ipython3",
      "version": "3.8"
    }
  },
  "nbformat_minor": 5,
  "nbformat": 4,
  "cells": [
    {
      "id": "7439b2b0-00a8-4ab7-bfe2-b91dc2a738e7",
      "cell_type": "markdown",
      "source": "**Phase1 :**\n\n**Goal of Collecting Dataset:**\nOur goal is to apply both classification and clustering techniques to build machine-learning models for analyzing the risk of heart disease. The classification model will predict whether an individual has heart disease based on various health attributes such as blood pressure, cholesterol levels, and heart rate. The clustering model will uncover patterns in the data, grouping individuals with similar characteristics and identifying distinct clusters of risk profiles. These insights aim to support early detection, prevention, and raise awareness about heart disease risks.\n\n**Source of Dataset:**\nHeart Disease Dataset:\n[ https://www.kaggle.com/datasets/johnsmith88/heart-disease-dataset ]",
      "metadata": {}
    },
    {
      "id": "cc3b572f-1bb1-4be2-8f76-5c496c83dfb2",
      "cell_type": "markdown",
      "source": "**Read DataSet:**\n",
      "metadata": {}
    },
    {
      "id": "6845d5ed-1352-4501-a99f-6ca55f289382",
      "cell_type": "code",
      "source": "import pandas as pd\ndf=pd.read_csv('heart.csv')\n",
      "metadata": {
        "trusted": true
      },
      "outputs": [],
      "execution_count": 2
    },
    {
      "id": "6254342e-87e7-4b25-9766-ffe3c0beab31",
      "cell_type": "markdown",
      "source": "**Genral information about the dataset:**\n\nNumber of Attributes: 14\n\nNumber of Objects: 1026\n\nClass Lable: Target",
      "metadata": {}
    },
    {
      "id": "f461652b-18bf-4872-95a7-b33131468f53",
      "cell_type": "code",
      "source": "attribute_infornation = pd.DataFrame({\n    'AttributeName' : df.columns,\n    'DataType' : df.dtypes.values\n})\nprint(f\"Number of attributes: {len(df.columns)}\")\nprint('\\n')\nprint(f\"Number of objects: {len(df)}\")\nprint('\\n')\nprint(\"Attribut And Their Types:\")\nprint(attribute_infornation)\n\n",
      "metadata": {
        "trusted": true
      },
      "outputs": [
        {
          "name": "stdout",
          "output_type": "stream",
          "text": "Number of attributes: 14\n\n\nNumber of objects: 1025\n\n\nAttribut And Their Types:\n   AttributeName DataType\n0            age    int64\n1            sex    int64\n2             cp    int64\n3       trestbps    int64\n4           chol    int64\n5            fbs    int64\n6        restecg    int64\n7        thalach    int64\n8          exang    int64\n9        oldpeak  float64\n10         slope    int64\n11            ca    int64\n12          thal    int64\n13        target    int64\n"
        }
      ],
      "execution_count": 6
    },
    {
      "id": "eace75e2-6ba2-4deb-8166-9f29e706b43e",
      "cell_type": "code",
      "source": "",
      "metadata": {
        "trusted": true
      },
      "outputs": [],
      "execution_count": null
    },
    {
      "id": "a378cd9d-2da5-4298-84ea-d2ae13dcc8b7",
      "cell_type": "code",
      "source": "",
      "metadata": {
        "trusted": true
      },
      "outputs": [],
      "execution_count": null
    }
  ]
}
