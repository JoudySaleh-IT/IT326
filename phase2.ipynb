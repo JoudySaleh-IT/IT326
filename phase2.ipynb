{
  "metadata": {
    "kernelspec": {
      "name": "python",
      "display_name": "Python (Pyodide)",
      "language": "python"
    },
    "language_info": {
      "codemirror_mode": {
        "name": "python",
        "version": 3
      },
      "file_extension": ".py",
      "mimetype": "text/x-python",
      "name": "python",
      "nbconvert_exporter": "python",
      "pygments_lexer": "ipython3",
      "version": "3.8"
    }
  },
  "nbformat_minor": 5,
  "nbformat": 4,
  "cells": [
    {
      "id": "00bc595b-c13a-4401-bfdf-2550a40a0650",
      "cell_type": "markdown",
      "source": "Read dataset:",
      "metadata": {}
    },
    {
      "id": "8fd3deca-6cfc-47de-8e34-01c135c823d2",
      "cell_type": "code",
      "source": "import pandas as pd\nimport numpy as np\nimport matplotlib.pyplot as plt\nfrom scipy.stats import chi2_contingency\nfrom sklearn.preprocessing import LabelEncoder\nfrom sklearn.preprocessing import MinMaxScaler\nfrom sklearn.feature_selection import VarianceThreshold\nfrom sklearn.linear_model import LogisticRegression\nfrom sklearn.feature_selection import RFE\nfrom sklearn.linear_model import Lasso\nfrom sklearn.feature_selection import SelectKBest, f_classif \nimport pickle\nimport jinja2\n\ndf = pd.read_csv('heart.csv')\n",
      "metadata": {
        "trusted": true
      },
      "outputs": [
        {
          "name": "stderr",
          "output_type": "stream",
          "text": "Matplotlib is building the font cache; this may take a moment.\n"
        }
      ],
      "execution_count": 1
    },
    {
      "id": "f2e64c32-776a-46bf-98a8-72b1b39bfa76",
      "cell_type": "markdown",
      "source": "Attributes’ description table:",
      "metadata": {}
    },
    {
      "id": "b566e814-ddfb-4d2a-bc12-06d2f748c40f",
      "cell_type": "code",
      "source": "data = {\n    \"Attribute Name\": [\n        \"age\", \"sex\", \"cp\", \"trestbps\", \"chol\",\"fbs\", \"restecg\", \"thalach\", \n        \"exang\", \"oldpeak\", \"slope\", \"ca\", \"thal\",\"target\"\n    ],\n    \"Description\": [\n        \"age in years\", \"Gender of the patient\", \"chest pain type\", \"resting blood pressure (in mm Hg on admission to the hospital)\", \n        \"serum cholestoral in mg/dl\", \n        \"fasting blood sugar > 120 mg/dl\",\n        \"resting electrocardiographic results\",\n        \"maximum heart rate achieved\", \n        \"exercise induced angina\", \n        \"ST depression induced by exercise relative to rest\", \n        \"the slope of the peak exercise ST segment\",\n        \"number of major vessels (0-3) colored by flourosopy\", \n        \" 1 = normal; 2 = fixed defect; 3 = reversable defect\",\" The class label,refers to the presence of heart disease in the patient\"\n    ],\n    \"Data Type\": [\n       \"Numeric\", \"Binary\", \"Ordinal\", \"Numeric\",\"Numeric\", \"Binary\",\"Nominal\", \"Numeric\", \"Binary\", \n        \"Numeric\", \"Ordinal\", \"Ordinal\", \"Nominal\", \"Binary\"\n    ],\n    \"Possible Values\": [\n        \"Range between 29-77\",\"Female, Male\",\"Range between 0-3\",\"Range between 94-200\",\"Range between 126-564\",\"1= grater than 120mg/dl 0=less than 120mg/dl\",\n        \"Range between 0-2\",\"Range between 71-202\",\"1=exercise induced angina  0= no\",\"Range between 0-6.2\",\"Range between 0-2\",\"Range between 0-4\",\n        \"Range between 0-3\",\"1 = have heart disease 0 = no heart disease\"\n    ]\n}\ndf = pd.DataFrame(data)\nstyled_df = df.style.set_properties(**{'text-align': 'center'})\nstyled_df",
      "metadata": {
        "trusted": true
      },
      "outputs": [
        {
          "execution_count": 2,
          "output_type": "execute_result",
          "data": {
            "text/plain": "<pandas.io.formats.style.Styler at 0x919d1d8>",
            "text/html": "<style type=\"text/css\">\n#T_8ec4b_row0_col0, #T_8ec4b_row0_col1, #T_8ec4b_row0_col2, #T_8ec4b_row0_col3, #T_8ec4b_row1_col0, #T_8ec4b_row1_col1, #T_8ec4b_row1_col2, #T_8ec4b_row1_col3, #T_8ec4b_row2_col0, #T_8ec4b_row2_col1, #T_8ec4b_row2_col2, #T_8ec4b_row2_col3, #T_8ec4b_row3_col0, #T_8ec4b_row3_col1, #T_8ec4b_row3_col2, #T_8ec4b_row3_col3, #T_8ec4b_row4_col0, #T_8ec4b_row4_col1, #T_8ec4b_row4_col2, #T_8ec4b_row4_col3, #T_8ec4b_row5_col0, #T_8ec4b_row5_col1, #T_8ec4b_row5_col2, #T_8ec4b_row5_col3, #T_8ec4b_row6_col0, #T_8ec4b_row6_col1, #T_8ec4b_row6_col2, #T_8ec4b_row6_col3, #T_8ec4b_row7_col0, #T_8ec4b_row7_col1, #T_8ec4b_row7_col2, #T_8ec4b_row7_col3, #T_8ec4b_row8_col0, #T_8ec4b_row8_col1, #T_8ec4b_row8_col2, #T_8ec4b_row8_col3, #T_8ec4b_row9_col0, #T_8ec4b_row9_col1, #T_8ec4b_row9_col2, #T_8ec4b_row9_col3, #T_8ec4b_row10_col0, #T_8ec4b_row10_col1, #T_8ec4b_row10_col2, #T_8ec4b_row10_col3, #T_8ec4b_row11_col0, #T_8ec4b_row11_col1, #T_8ec4b_row11_col2, #T_8ec4b_row11_col3, #T_8ec4b_row12_col0, #T_8ec4b_row12_col1, #T_8ec4b_row12_col2, #T_8ec4b_row12_col3, #T_8ec4b_row13_col0, #T_8ec4b_row13_col1, #T_8ec4b_row13_col2, #T_8ec4b_row13_col3 {\n  text-align: center;\n}\n</style>\n<table id=\"T_8ec4b\">\n  <thead>\n    <tr>\n      <th class=\"blank level0\" >&nbsp;</th>\n      <th id=\"T_8ec4b_level0_col0\" class=\"col_heading level0 col0\" >Attribute Name</th>\n      <th id=\"T_8ec4b_level0_col1\" class=\"col_heading level0 col1\" >Description</th>\n      <th id=\"T_8ec4b_level0_col2\" class=\"col_heading level0 col2\" >Data Type</th>\n      <th id=\"T_8ec4b_level0_col3\" class=\"col_heading level0 col3\" >Possible Values</th>\n    </tr>\n  </thead>\n  <tbody>\n    <tr>\n      <th id=\"T_8ec4b_level0_row0\" class=\"row_heading level0 row0\" >0</th>\n      <td id=\"T_8ec4b_row0_col0\" class=\"data row0 col0\" >age</td>\n      <td id=\"T_8ec4b_row0_col1\" class=\"data row0 col1\" >age in years</td>\n      <td id=\"T_8ec4b_row0_col2\" class=\"data row0 col2\" >Numeric</td>\n      <td id=\"T_8ec4b_row0_col3\" class=\"data row0 col3\" >Range between 29-77</td>\n    </tr>\n    <tr>\n      <th id=\"T_8ec4b_level0_row1\" class=\"row_heading level0 row1\" >1</th>\n      <td id=\"T_8ec4b_row1_col0\" class=\"data row1 col0\" >sex</td>\n      <td id=\"T_8ec4b_row1_col1\" class=\"data row1 col1\" >Gender of the patient</td>\n      <td id=\"T_8ec4b_row1_col2\" class=\"data row1 col2\" >Binary</td>\n      <td id=\"T_8ec4b_row1_col3\" class=\"data row1 col3\" >Female, Male</td>\n    </tr>\n    <tr>\n      <th id=\"T_8ec4b_level0_row2\" class=\"row_heading level0 row2\" >2</th>\n      <td id=\"T_8ec4b_row2_col0\" class=\"data row2 col0\" >cp</td>\n      <td id=\"T_8ec4b_row2_col1\" class=\"data row2 col1\" >chest pain type</td>\n      <td id=\"T_8ec4b_row2_col2\" class=\"data row2 col2\" >Ordinal</td>\n      <td id=\"T_8ec4b_row2_col3\" class=\"data row2 col3\" >Range between 0-3</td>\n    </tr>\n    <tr>\n      <th id=\"T_8ec4b_level0_row3\" class=\"row_heading level0 row3\" >3</th>\n      <td id=\"T_8ec4b_row3_col0\" class=\"data row3 col0\" >trestbps</td>\n      <td id=\"T_8ec4b_row3_col1\" class=\"data row3 col1\" >resting blood pressure (in mm Hg on admission to the hospital)</td>\n      <td id=\"T_8ec4b_row3_col2\" class=\"data row3 col2\" >Numeric</td>\n      <td id=\"T_8ec4b_row3_col3\" class=\"data row3 col3\" >Range between 94-200</td>\n    </tr>\n    <tr>\n      <th id=\"T_8ec4b_level0_row4\" class=\"row_heading level0 row4\" >4</th>\n      <td id=\"T_8ec4b_row4_col0\" class=\"data row4 col0\" >chol</td>\n      <td id=\"T_8ec4b_row4_col1\" class=\"data row4 col1\" >serum cholestoral in mg/dl</td>\n      <td id=\"T_8ec4b_row4_col2\" class=\"data row4 col2\" >Numeric</td>\n      <td id=\"T_8ec4b_row4_col3\" class=\"data row4 col3\" >Range between 126-564</td>\n    </tr>\n    <tr>\n      <th id=\"T_8ec4b_level0_row5\" class=\"row_heading level0 row5\" >5</th>\n      <td id=\"T_8ec4b_row5_col0\" class=\"data row5 col0\" >fbs</td>\n      <td id=\"T_8ec4b_row5_col1\" class=\"data row5 col1\" >fasting blood sugar > 120 mg/dl</td>\n      <td id=\"T_8ec4b_row5_col2\" class=\"data row5 col2\" >Binary</td>\n      <td id=\"T_8ec4b_row5_col3\" class=\"data row5 col3\" >1= grater than 120mg/dl 0=less than 120mg/dl</td>\n    </tr>\n    <tr>\n      <th id=\"T_8ec4b_level0_row6\" class=\"row_heading level0 row6\" >6</th>\n      <td id=\"T_8ec4b_row6_col0\" class=\"data row6 col0\" >restecg</td>\n      <td id=\"T_8ec4b_row6_col1\" class=\"data row6 col1\" >resting electrocardiographic results</td>\n      <td id=\"T_8ec4b_row6_col2\" class=\"data row6 col2\" >Nominal</td>\n      <td id=\"T_8ec4b_row6_col3\" class=\"data row6 col3\" >Range between 0-2</td>\n    </tr>\n    <tr>\n      <th id=\"T_8ec4b_level0_row7\" class=\"row_heading level0 row7\" >7</th>\n      <td id=\"T_8ec4b_row7_col0\" class=\"data row7 col0\" >thalach</td>\n      <td id=\"T_8ec4b_row7_col1\" class=\"data row7 col1\" >maximum heart rate achieved</td>\n      <td id=\"T_8ec4b_row7_col2\" class=\"data row7 col2\" >Numeric</td>\n      <td id=\"T_8ec4b_row7_col3\" class=\"data row7 col3\" >Range between 71-202</td>\n    </tr>\n    <tr>\n      <th id=\"T_8ec4b_level0_row8\" class=\"row_heading level0 row8\" >8</th>\n      <td id=\"T_8ec4b_row8_col0\" class=\"data row8 col0\" >exang</td>\n      <td id=\"T_8ec4b_row8_col1\" class=\"data row8 col1\" >exercise induced angina</td>\n      <td id=\"T_8ec4b_row8_col2\" class=\"data row8 col2\" >Binary</td>\n      <td id=\"T_8ec4b_row8_col3\" class=\"data row8 col3\" >1=exercise induced angina  0= no</td>\n    </tr>\n    <tr>\n      <th id=\"T_8ec4b_level0_row9\" class=\"row_heading level0 row9\" >9</th>\n      <td id=\"T_8ec4b_row9_col0\" class=\"data row9 col0\" >oldpeak</td>\n      <td id=\"T_8ec4b_row9_col1\" class=\"data row9 col1\" >ST depression induced by exercise relative to rest</td>\n      <td id=\"T_8ec4b_row9_col2\" class=\"data row9 col2\" >Numeric</td>\n      <td id=\"T_8ec4b_row9_col3\" class=\"data row9 col3\" >Range between 0-6.2</td>\n    </tr>\n    <tr>\n      <th id=\"T_8ec4b_level0_row10\" class=\"row_heading level0 row10\" >10</th>\n      <td id=\"T_8ec4b_row10_col0\" class=\"data row10 col0\" >slope</td>\n      <td id=\"T_8ec4b_row10_col1\" class=\"data row10 col1\" >the slope of the peak exercise ST segment</td>\n      <td id=\"T_8ec4b_row10_col2\" class=\"data row10 col2\" >Ordinal</td>\n      <td id=\"T_8ec4b_row10_col3\" class=\"data row10 col3\" >Range between 0-2</td>\n    </tr>\n    <tr>\n      <th id=\"T_8ec4b_level0_row11\" class=\"row_heading level0 row11\" >11</th>\n      <td id=\"T_8ec4b_row11_col0\" class=\"data row11 col0\" >ca</td>\n      <td id=\"T_8ec4b_row11_col1\" class=\"data row11 col1\" >number of major vessels (0-3) colored by flourosopy</td>\n      <td id=\"T_8ec4b_row11_col2\" class=\"data row11 col2\" >Ordinal</td>\n      <td id=\"T_8ec4b_row11_col3\" class=\"data row11 col3\" >Range between 0-4</td>\n    </tr>\n    <tr>\n      <th id=\"T_8ec4b_level0_row12\" class=\"row_heading level0 row12\" >12</th>\n      <td id=\"T_8ec4b_row12_col0\" class=\"data row12 col0\" >thal</td>\n      <td id=\"T_8ec4b_row12_col1\" class=\"data row12 col1\" > 1 = normal; 2 = fixed defect; 3 = reversable defect</td>\n      <td id=\"T_8ec4b_row12_col2\" class=\"data row12 col2\" >Nominal</td>\n      <td id=\"T_8ec4b_row12_col3\" class=\"data row12 col3\" >Range between 0-3</td>\n    </tr>\n    <tr>\n      <th id=\"T_8ec4b_level0_row13\" class=\"row_heading level0 row13\" >13</th>\n      <td id=\"T_8ec4b_row13_col0\" class=\"data row13 col0\" >target</td>\n      <td id=\"T_8ec4b_row13_col1\" class=\"data row13 col1\" > The class label,refers to the presence of heart disease in the patient</td>\n      <td id=\"T_8ec4b_row13_col2\" class=\"data row13 col2\" >Binary</td>\n      <td id=\"T_8ec4b_row13_col3\" class=\"data row13 col3\" >1 = have heart disease 0 = no heart disease</td>\n    </tr>\n  </tbody>\n</table>\n"
          },
          "metadata": {}
        }
      ],
      "execution_count": 2
    },
    {
      "id": "bddb8c9e-d112-404c-a3f3-8e66b287f475",
      "cell_type": "code",
      "source": "sample=df.sample(n=20);\nsample",
      "metadata": {
        "trusted": true
      },
      "outputs": [
        {
          "execution_count": 19,
          "output_type": "execute_result",
          "data": {
            "text/plain": "      age  sex  cp  trestbps  chol  fbs  restecg  thalach  exang  oldpeak  \\\n911    58    0   1       136   319    1        0      152      0      0.0   \n368    58    1   2       105   240    0        0      154      1      0.6   \n224    51    1   0       140   261    0        0      186      1      0.0   \n274    66    1   0       160   228    0        0      138      0      2.3   \n130    60    0   3       150   240    0        1      171      0      0.9   \n302    55    0   1       132   342    0        1      166      0      1.2   \n2      70    1   0       145   174    0        1      125      1      2.6   \n719    52    1   0       108   233    1        1      147      0      0.1   \n908    62    1   0       120   267    0        1       99      1      1.8   \n642    64    1   0       128   263    0        1      105      1      0.2   \n19     58    1   2       140   211    1        0      165      0      0.0   \n604    47    1   2       130   253    0        1      179      0      0.0   \n536    50    0   2       120   219    0        1      158      0      1.6   \n307    44    1   1       120   220    0        1      170      0      0.0   \n994    59    1   0       110   239    0        0      142      1      1.2   \n578    62    0   0       140   394    0        0      157      0      1.2   \n780    44    1   0       120   169    0        1      144      1      2.8   \n1019   47    1   0       112   204    0        1      143      0      0.1   \n720    64    1   2       140   335    0        1      158      0      0.0   \n839    51    1   0       140   261    0        0      186      1      0.0   \n\n      slope  ca  thal  target  \n911       2   2     2       0  \n368       1   0     3       1  \n224       2   0     2       1  \n274       2   0     1       1  \n130       2   0     2       1  \n302       2   0     2       1  \n2         0   0     3       0  \n719       2   3     3       1  \n908       1   2     3       0  \n642       1   1     3       1  \n19        2   0     2       1  \n604       2   0     2       1  \n536       1   0     2       1  \n307       2   0     2       1  \n994       1   1     3       0  \n578       1   0     2       1  \n780       0   0     1       0  \n1019      2   0     2       1  \n720       2   0     2       0  \n839       2   0     2       1  ",
            "text/html": "<div>\n<style scoped>\n    .dataframe tbody tr th:only-of-type {\n        vertical-align: middle;\n    }\n\n    .dataframe tbody tr th {\n        vertical-align: top;\n    }\n\n    .dataframe thead th {\n        text-align: right;\n    }\n</style>\n<table border=\"1\" class=\"dataframe\">\n  <thead>\n    <tr style=\"text-align: right;\">\n      <th></th>\n      <th>age</th>\n      <th>sex</th>\n      <th>cp</th>\n      <th>trestbps</th>\n      <th>chol</th>\n      <th>fbs</th>\n      <th>restecg</th>\n      <th>thalach</th>\n      <th>exang</th>\n      <th>oldpeak</th>\n      <th>slope</th>\n      <th>ca</th>\n      <th>thal</th>\n      <th>target</th>\n    </tr>\n  </thead>\n  <tbody>\n    <tr>\n      <th>911</th>\n      <td>58</td>\n      <td>0</td>\n      <td>1</td>\n      <td>136</td>\n      <td>319</td>\n      <td>1</td>\n      <td>0</td>\n      <td>152</td>\n      <td>0</td>\n      <td>0.0</td>\n      <td>2</td>\n      <td>2</td>\n      <td>2</td>\n      <td>0</td>\n    </tr>\n    <tr>\n      <th>368</th>\n      <td>58</td>\n      <td>1</td>\n      <td>2</td>\n      <td>105</td>\n      <td>240</td>\n      <td>0</td>\n      <td>0</td>\n      <td>154</td>\n      <td>1</td>\n      <td>0.6</td>\n      <td>1</td>\n      <td>0</td>\n      <td>3</td>\n      <td>1</td>\n    </tr>\n    <tr>\n      <th>224</th>\n      <td>51</td>\n      <td>1</td>\n      <td>0</td>\n      <td>140</td>\n      <td>261</td>\n      <td>0</td>\n      <td>0</td>\n      <td>186</td>\n      <td>1</td>\n      <td>0.0</td>\n      <td>2</td>\n      <td>0</td>\n      <td>2</td>\n      <td>1</td>\n    </tr>\n    <tr>\n      <th>274</th>\n      <td>66</td>\n      <td>1</td>\n      <td>0</td>\n      <td>160</td>\n      <td>228</td>\n      <td>0</td>\n      <td>0</td>\n      <td>138</td>\n      <td>0</td>\n      <td>2.3</td>\n      <td>2</td>\n      <td>0</td>\n      <td>1</td>\n      <td>1</td>\n    </tr>\n    <tr>\n      <th>130</th>\n      <td>60</td>\n      <td>0</td>\n      <td>3</td>\n      <td>150</td>\n      <td>240</td>\n      <td>0</td>\n      <td>1</td>\n      <td>171</td>\n      <td>0</td>\n      <td>0.9</td>\n      <td>2</td>\n      <td>0</td>\n      <td>2</td>\n      <td>1</td>\n    </tr>\n    <tr>\n      <th>302</th>\n      <td>55</td>\n      <td>0</td>\n      <td>1</td>\n      <td>132</td>\n      <td>342</td>\n      <td>0</td>\n      <td>1</td>\n      <td>166</td>\n      <td>0</td>\n      <td>1.2</td>\n      <td>2</td>\n      <td>0</td>\n      <td>2</td>\n      <td>1</td>\n    </tr>\n    <tr>\n      <th>2</th>\n      <td>70</td>\n      <td>1</td>\n      <td>0</td>\n      <td>145</td>\n      <td>174</td>\n      <td>0</td>\n      <td>1</td>\n      <td>125</td>\n      <td>1</td>\n      <td>2.6</td>\n      <td>0</td>\n      <td>0</td>\n      <td>3</td>\n      <td>0</td>\n    </tr>\n    <tr>\n      <th>719</th>\n      <td>52</td>\n      <td>1</td>\n      <td>0</td>\n      <td>108</td>\n      <td>233</td>\n      <td>1</td>\n      <td>1</td>\n      <td>147</td>\n      <td>0</td>\n      <td>0.1</td>\n      <td>2</td>\n      <td>3</td>\n      <td>3</td>\n      <td>1</td>\n    </tr>\n    <tr>\n      <th>908</th>\n      <td>62</td>\n      <td>1</td>\n      <td>0</td>\n      <td>120</td>\n      <td>267</td>\n      <td>0</td>\n      <td>1</td>\n      <td>99</td>\n      <td>1</td>\n      <td>1.8</td>\n      <td>1</td>\n      <td>2</td>\n      <td>3</td>\n      <td>0</td>\n    </tr>\n    <tr>\n      <th>642</th>\n      <td>64</td>\n      <td>1</td>\n      <td>0</td>\n      <td>128</td>\n      <td>263</td>\n      <td>0</td>\n      <td>1</td>\n      <td>105</td>\n      <td>1</td>\n      <td>0.2</td>\n      <td>1</td>\n      <td>1</td>\n      <td>3</td>\n      <td>1</td>\n    </tr>\n    <tr>\n      <th>19</th>\n      <td>58</td>\n      <td>1</td>\n      <td>2</td>\n      <td>140</td>\n      <td>211</td>\n      <td>1</td>\n      <td>0</td>\n      <td>165</td>\n      <td>0</td>\n      <td>0.0</td>\n      <td>2</td>\n      <td>0</td>\n      <td>2</td>\n      <td>1</td>\n    </tr>\n    <tr>\n      <th>604</th>\n      <td>47</td>\n      <td>1</td>\n      <td>2</td>\n      <td>130</td>\n      <td>253</td>\n      <td>0</td>\n      <td>1</td>\n      <td>179</td>\n      <td>0</td>\n      <td>0.0</td>\n      <td>2</td>\n      <td>0</td>\n      <td>2</td>\n      <td>1</td>\n    </tr>\n    <tr>\n      <th>536</th>\n      <td>50</td>\n      <td>0</td>\n      <td>2</td>\n      <td>120</td>\n      <td>219</td>\n      <td>0</td>\n      <td>1</td>\n      <td>158</td>\n      <td>0</td>\n      <td>1.6</td>\n      <td>1</td>\n      <td>0</td>\n      <td>2</td>\n      <td>1</td>\n    </tr>\n    <tr>\n      <th>307</th>\n      <td>44</td>\n      <td>1</td>\n      <td>1</td>\n      <td>120</td>\n      <td>220</td>\n      <td>0</td>\n      <td>1</td>\n      <td>170</td>\n      <td>0</td>\n      <td>0.0</td>\n      <td>2</td>\n      <td>0</td>\n      <td>2</td>\n      <td>1</td>\n    </tr>\n    <tr>\n      <th>994</th>\n      <td>59</td>\n      <td>1</td>\n      <td>0</td>\n      <td>110</td>\n      <td>239</td>\n      <td>0</td>\n      <td>0</td>\n      <td>142</td>\n      <td>1</td>\n      <td>1.2</td>\n      <td>1</td>\n      <td>1</td>\n      <td>3</td>\n      <td>0</td>\n    </tr>\n    <tr>\n      <th>578</th>\n      <td>62</td>\n      <td>0</td>\n      <td>0</td>\n      <td>140</td>\n      <td>394</td>\n      <td>0</td>\n      <td>0</td>\n      <td>157</td>\n      <td>0</td>\n      <td>1.2</td>\n      <td>1</td>\n      <td>0</td>\n      <td>2</td>\n      <td>1</td>\n    </tr>\n    <tr>\n      <th>780</th>\n      <td>44</td>\n      <td>1</td>\n      <td>0</td>\n      <td>120</td>\n      <td>169</td>\n      <td>0</td>\n      <td>1</td>\n      <td>144</td>\n      <td>1</td>\n      <td>2.8</td>\n      <td>0</td>\n      <td>0</td>\n      <td>1</td>\n      <td>0</td>\n    </tr>\n    <tr>\n      <th>1019</th>\n      <td>47</td>\n      <td>1</td>\n      <td>0</td>\n      <td>112</td>\n      <td>204</td>\n      <td>0</td>\n      <td>1</td>\n      <td>143</td>\n      <td>0</td>\n      <td>0.1</td>\n      <td>2</td>\n      <td>0</td>\n      <td>2</td>\n      <td>1</td>\n    </tr>\n    <tr>\n      <th>720</th>\n      <td>64</td>\n      <td>1</td>\n      <td>2</td>\n      <td>140</td>\n      <td>335</td>\n      <td>0</td>\n      <td>1</td>\n      <td>158</td>\n      <td>0</td>\n      <td>0.0</td>\n      <td>2</td>\n      <td>0</td>\n      <td>2</td>\n      <td>0</td>\n    </tr>\n    <tr>\n      <th>839</th>\n      <td>51</td>\n      <td>1</td>\n      <td>0</td>\n      <td>140</td>\n      <td>261</td>\n      <td>0</td>\n      <td>0</td>\n      <td>186</td>\n      <td>1</td>\n      <td>0.0</td>\n      <td>2</td>\n      <td>0</td>\n      <td>2</td>\n      <td>1</td>\n    </tr>\n  </tbody>\n</table>\n</div>"
          },
          "metadata": {}
        }
      ],
      "execution_count": 19
    },
    {
      "id": "5a7b1e95-1d7a-477e-9bd2-4ba6af39b7c4",
      "cell_type": "markdown",
      "source": "Sample of 20 people from the dataset:",
      "metadata": {}
    },
    {
      "id": "fd61c333-60a3-4526-9cf6-f8c8c291fa85",
      "cell_type": "markdown",
      "source": "Show the missing values:",
      "metadata": {}
    },
    {
      "id": "2a380776-42a7-4e6a-b6a3-3d3e025d4de5",
      "cell_type": "code",
      "source": "missing_counts = df.isnull().sum()\nprint(\"Missing values in each column:\")\nprint(missing_counts)\nprint()\nrows_with_missing = df.isnull().sum(axis=1)\nprint(\"Rows with missing values:\")\nprint(rows_with_missing);",
      "metadata": {
        "trusted": true
      },
      "outputs": [
        {
          "name": "stdout",
          "output_type": "stream",
          "text": "Missing values in each column:\nage         0\nsex         0\ncp          0\ntrestbps    0\nchol        0\nfbs         0\nrestecg     0\nthalach     0\nexang       0\noldpeak     0\nslope       0\nca          0\nthal        0\ntarget      0\ndtype: int64\n\nRows with missing values:\n0       0\n1       0\n2       0\n3       0\n4       0\n       ..\n1020    0\n1021    0\n1022    0\n1023    0\n1024    0\nLength: 1025, dtype: int64\n"
        }
      ],
      "execution_count": 20
    },
    {
      "id": "2649af5c-5879-43e0-af2a-df6d8a3cf49e",
      "cell_type": "markdown",
      "source": "We notice that there are no missing values, and all columns are complete.",
      "metadata": {}
    },
    {
      "id": "143a18f3-9ab9-4334-8fb1-0aae8b6f0e2f",
      "cell_type": "code",
      "source": "Summary of data:",
      "metadata": {
        "trusted": true
      },
      "outputs": [],
      "execution_count": null
    },
    {
      "id": "725fafd5-fb8d-4779-b211-b30e8d28d769",
      "cell_type": "code",
      "source": "summary=df.describe();\nprint(summary);",
      "metadata": {
        "trusted": true,
        "scrolled": true
      },
      "outputs": [
        {
          "name": "stdout",
          "output_type": "stream",
          "text": "               age          sex           cp     trestbps        chol  \\\ncount  1025.000000  1025.000000  1025.000000  1025.000000  1025.00000   \nmean     54.434146     0.695610     0.942439   131.611707   246.00000   \nstd       9.072290     0.460373     1.029641    17.516718    51.59251   \nmin      29.000000     0.000000     0.000000    94.000000   126.00000   \n25%      48.000000     0.000000     0.000000   120.000000   211.00000   \n50%      56.000000     1.000000     1.000000   130.000000   240.00000   \n75%      61.000000     1.000000     2.000000   140.000000   275.00000   \nmax      77.000000     1.000000     3.000000   200.000000   564.00000   \n\n               fbs      restecg      thalach        exang      oldpeak  \\\ncount  1025.000000  1025.000000  1025.000000  1025.000000  1025.000000   \nmean      0.149268     0.529756   149.114146     0.336585     1.071512   \nstd       0.356527     0.527878    23.005724     0.472772     1.175053   \nmin       0.000000     0.000000    71.000000     0.000000     0.000000   \n25%       0.000000     0.000000   132.000000     0.000000     0.000000   \n50%       0.000000     1.000000   152.000000     0.000000     0.800000   \n75%       0.000000     1.000000   166.000000     1.000000     1.800000   \nmax       1.000000     2.000000   202.000000     1.000000     6.200000   \n\n             slope           ca         thal       target  \ncount  1025.000000  1025.000000  1025.000000  1025.000000  \nmean      1.385366     0.754146     2.323902     0.513171  \nstd       0.617755     1.030798     0.620660     0.500070  \nmin       0.000000     0.000000     0.000000     0.000000  \n25%       1.000000     0.000000     2.000000     0.000000  \n50%       1.000000     0.000000     2.000000     1.000000  \n75%       2.000000     1.000000     3.000000     1.000000  \nmax       2.000000     4.000000     3.000000     1.000000  \n"
        }
      ],
      "execution_count": 21
    },
    {
      "id": "92723a33-93d5-47b3-acef-f09613052c90",
      "cell_type": "markdown",
      "source": "description:\n\nAge:\nThere is significant variability in ages, ranging from 29 to 77 years, with an average of 54.43 years. This indicates that the dataset primarily consists of middle-aged and older individuals, who are at a higher risk of heart disease.\n\nSex:\nThe values are binary (0 for female, 1 for male), with a mean of 0.695, indicating that about 70% of the dataset consists of males. This suggests a higher representation of males in the study, which is relevant as men often have different heart disease risk factors compared to women.\n\nChest Pain Type (CP):\nThe values range from 0 to 3, with an average of 0.94. This suggests that most individuals experience mild to moderate chest pain, which is a key symptom of heart disease. The standard deviation is 1.03, indicating variation in pain levels across individuals.\n\nResting Blood Pressure (Trestbps):\nThe values range from 94 to 200 mmHg, with the mean at 131.61 mmHg. The median is 130 mmHg, which is close to the mean, suggesting a relatively balanced distribution. The standard deviation is 17.51, indicating moderate variability in blood pressure levels among individuals.\n\nserum cholestoral (Chol):\nThe values vary significantly, with a minimum of 126 and a maximum of 564. The mean is 246, which is slightly higher than the median of 240, indicating a slight skew in distribution. The standard deviation is 51.59, suggesting considerable variability in cholesterol levels, which may indicate different risk profiles for heart disease.\n\nFasting Blood Sugar (FBS):\nThe values are binary, limited to 0 and 1, with a mean of 0.149, indicating that around 15% of individuals have fasting blood sugar ≥ 120 mg/dl. This suggests that diabetes is present but not very common in this dataset.\n\nResting ECG (Restecg):\nThe values range from 0 to 2, with a mean of 0.53, indicating that about 53% of individuals have some form of abnormal resting ECG results. This suggests that a significant portion of individuals show heart abnormalities even at rest.\n\nMaximum Heart Rate Achieved (Thalach):\nHeart rate values range from 71 bpm to 202 bpm, which indicates a wide range of cardiovascular fitness levels. The mean is 149 bpm, which is relatively high. The median of 152 bpm is very close to the mean, suggesting that the heart rate distribution is fairly symmetrical. The standard deviation is 23.00, showing variability in heart rates among individuals.\n\nExercise-Induced Angina (Exang):\nThe values are binary, limited to 0 and 1, with a mean of 0.336, indicating that about 33% of individuals experience angina during exercise. This suggests that a significant portion of individuals show signs of heart-related issues when performing physical activity.\n\nST depression induced by exercise relative to rest(Oldpeak):\nST depression values range from 0 to 6.2, with a mean of 1.07. The median of 0.8 suggests that most individuals have mild ST depression, but a few cases show severe depression, which is a potential indicator of heart disease risk. The standard deviation is 1.17, showing that there is variability in how much ST depression different individuals experience.\n\nSlope of the Peak Exercise ST Segment (Slope):\nThe values range from 0 to 2, with a mean of 1.38. This suggests that most individuals have a moderate or normal response to exercise, but some have abnormal slopes, which could indicate ischemia (reduced blood flow to the heart).\n\nNumber of Major Vessels Colored by Fluoroscopy (CA):\nThe values range from 0 to 4, with a mean of 0.75. This suggests that most individuals have fewer major blood vessel blockages, but some have severe obstructions, indicating a risk of cardiovascular issues.\n\nThalassemia (Thal):\nThe values range from 0 to 3, with an average of 2.32. This suggests that most individuals have normal or slightly abnormal thalassemia test results.\n\nHeart Disease (Target):\nThe values are binary, limited to 0 and 1, with a mean of 0.513 and a standard deviation of 0.50. This suggests significant variability in heart disease presence, with a fairly even distribution between those with and without heart disease.",
      "metadata": {}
    },
    {
      "id": "f4db68bf-a223-4536-b230-80c77a48fbe2",
      "cell_type": "code",
      "source": "Calculate the variance :\n",
      "metadata": {
        "trusted": true
      },
      "outputs": [],
      "execution_count": null
    },
    {
      "id": "638570bc-703b-4b30-a036-203b512edb52",
      "cell_type": "code",
      "source": "variance= df.var(numeric_only=True);\nprint(variance)",
      "metadata": {
        "trusted": true
      },
      "outputs": [
        {
          "name": "stdout",
          "output_type": "stream",
          "text": "age           82.306450\nsex            0.211944\ncp             1.060160\ntrestbps     306.835410\nchol        2661.787109\nfbs            0.127111\nrestecg        0.278655\nthalach      529.263325\nexang          0.223514\noldpeak        1.380750\nslope          0.381622\nca             1.062544\nthal           0.385219\ntarget         0.250071\ndtype: float64\n"
        }
      ],
      "execution_count": 22
    },
    {
      "id": "5f06dd9c-597c-462a-8441-03aaa2ff9fdd",
      "cell_type": "markdown",
      "source": "Variance Analysis of the Dataset:\n\nHigh Variance Values:\nCholesterol (2661.79) → Extremely high, meaning large differences in cholesterol levels.\n\nResting Blood Pressure (306.84) → High variance, suggesting a wide range of BP values.\n\nMaximum Heart Rate Achieved (529.26) → Indicates significant variability in heart rate.\n\nAge (82.31) → Shows a diverse age distribution.\n\n\nModerate Variance Values:\nChest Pain Type (1.06).\n\nNumber of Major Vessels (1.06).\n\nST Depression (1.38).\n\nThese values suggest some variation but not as extreme as cholesterol or heart rate.\n\n\nLow Variance Values:\nBinary columns like Sex (0.21), FBS (0.12), Exang (0.22), and Target (0.25) → Limited variation because they mostly contain 0s and 1s.\nThal (0.38) and Slope (0.38) → Relatively small spread.",
      "metadata": {}
    },
    {
      "id": "d8df448a-c0b6-45db-a916-adf5ec22178c",
      "cell_type": "code",
      "source": "",
      "metadata": {
        "trusted": true
      },
      "outputs": [],
      "execution_count": null
    }
  ]
}